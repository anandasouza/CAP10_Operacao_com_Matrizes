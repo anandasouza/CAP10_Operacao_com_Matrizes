{
 "cells": [
  {
   "cell_type": "markdown",
   "metadata": {},
   "source": [
    "# Exercício 1 - Soma de Matrizes\n",
    "Programa em Python que soma duas matrizes de mesmo tamanho"
   ]
  },
  {
   "cell_type": "code",
   "execution_count": 13,
   "metadata": {},
   "outputs": [],
   "source": [
    "#Criando duas matrizes\n",
    "matriz1 = [[1,2,3], [0,1,4], [5,6,0]]\n",
    "matriz2 = [[5,2,8],[3,1,2],[7,0,2]]"
   ]
  },
  {
   "cell_type": "code",
   "execution_count": 3,
   "metadata": {},
   "outputs": [
    {
     "name": "stdout",
     "output_type": "stream",
     "text": [
      "[[1, 2, 3], [0, 1, 4], [5, 6, 0]]\n"
     ]
    }
   ],
   "source": [
    "print(matriz1)"
   ]
  },
  {
   "cell_type": "code",
   "execution_count": 4,
   "metadata": {},
   "outputs": [
    {
     "name": "stdout",
     "output_type": "stream",
     "text": [
      "[[5, 2, 8], [3, 1, 2], [7, 0, 2]]\n"
     ]
    }
   ],
   "source": [
    "print(matriz2)"
   ]
  },
  {
   "cell_type": "code",
   "execution_count": 7,
   "metadata": {},
   "outputs": [],
   "source": [
    "#Resolução com Numpy\n",
    "import numpy as np\n",
    "def soma_matrizes_versao1(m1,m2):\n",
    "  return np.array(m1) + np.array(m2)"
   ]
  },
  {
   "cell_type": "code",
   "execution_count": 8,
   "metadata": {},
   "outputs": [
    {
     "data": {
      "text/plain": [
       "array([[ 6,  4, 11],\n",
       "       [ 3,  2,  6],\n",
       "       [12,  6,  2]])"
      ]
     },
     "execution_count": 8,
     "metadata": {},
     "output_type": "execute_result"
    }
   ],
   "source": [
    "soma_matrizes_versao1(matriz1,matriz2)"
   ]
  },
  {
   "cell_type": "code",
   "execution_count": 9,
   "metadata": {},
   "outputs": [
    {
     "name": "stdout",
     "output_type": "stream",
     "text": [
      "[6, 4, 11]\n",
      "[3, 2, 6]\n",
      "[12, 6, 2]\n"
     ]
    }
   ],
   "source": [
    "# Resolução sem Numpy\n",
    "\n",
    "def soma_matrizes(matriz1, matriz2):\n",
    "    # Verificação do tamanho das matrizes\n",
    "    if len(matriz1) != len(matriz2) or len(matriz1[0]) != len(matriz2[0]):\n",
    "        raise ValueError(\"As matrizes devem ter o mesmo tamanho\")\n",
    "\n",
    "    # Lista vazia que armazena o resultado\n",
    "    matriz_resultado = []\n",
    "\n",
    "    # Loop\n",
    "    # O primeiro loop percorre cada linha das matrizes e o segundo loop cada coluna, após isso é somado e\n",
    "    # adiciona o resultado à lista 'linha'\n",
    "    for i in range(len(matriz1)):\n",
    "        linha = []\n",
    "        for j in range(len(matriz1[0])):\n",
    "            linha.append(matriz1[i][j] + matriz2[i][j])\n",
    "        # Armazenando o resultado\n",
    "        matriz_resultado.append(linha)\n",
    "\n",
    "    return matriz_resultado\n",
    "\n",
    "# Chamando a função e imprimindo o resultado\n",
    "resultado = soma_matrizes(matriz1, matriz2)\n",
    "for linha in resultado:\n",
    "    print(linha)\n",
    "\n"
   ]
  },
  {
   "cell_type": "markdown",
   "metadata": {},
   "source": [
    "# Exercicio 2 - Multiplicação de Matrizes\n"
   ]
  },
  {
   "cell_type": "markdown",
   "metadata": {},
   "source": [
    "Implementar uma função em python multiplicando duas matrizes"
   ]
  },
  {
   "cell_type": "code",
   "execution_count": 20,
   "metadata": {},
   "outputs": [
    {
     "data": {
      "text/plain": [
       "[[32, 4, 18], [31, 1, 10], [43, 16, 52]]"
      ]
     },
     "execution_count": 20,
     "metadata": {},
     "output_type": "execute_result"
    }
   ],
   "source": [
    "#Sem Numpy\n",
    "\n",
    "def multiplicacao_matrizes(m1, m2):\n",
    "    # Verificação de compatibilidade\n",
    "    if len(m1[0]) != len(m2):\n",
    "        return \"As matrizes não são compatíveis para a multiplicação\"\n",
    "\n",
    "    # Inicialização da Matriz resultante\n",
    "    resultado = []\n",
    "\n",
    "    # Interação da linha\n",
    "    for i in range(len(m1)):\n",
    "        linha = []\n",
    "\n",
    "        # Interação da coluna\n",
    "        for j in range(len(m2[0])):\n",
    "            soma = 0\n",
    "\n",
    "            # Calculo do produto escalar\n",
    "            for k in range(len(m2)):\n",
    "                soma += m1[i][k] * m2[k][j]\n",
    "\n",
    "            # Construção da linha da matriz resultante\n",
    "            linha.append(soma)\n",
    "\n",
    "        # Adição da linha da matriz resultante\n",
    "        resultado.append(linha)\n",
    "\n",
    "    # Retorno da matriz\n",
    "    return resultado\n",
    "\n",
    "#Resultado\n",
    "multiplicacao_matrizes(matriz1, matriz2)\n"
   ]
  },
  {
   "cell_type": "code",
   "execution_count": 24,
   "metadata": {},
   "outputs": [
    {
     "data": {
      "text/plain": [
       "array([[32,  4, 18],\n",
       "       [31,  1, 10],\n",
       "       [43, 16, 52]])"
      ]
     },
     "execution_count": 24,
     "metadata": {},
     "output_type": "execute_result"
    }
   ],
   "source": [
    "#Com Numpy versao 1\n",
    "import numpy as np\n",
    "\n",
    "# Definição da função\n",
    "def multiplicacao_matrizes(A, B):\n",
    "    \n",
    "    # Conversão para Array Numpy\n",
    "    A_np = np.array(A)\n",
    "    B_np = np.array(B)\n",
    "\n",
    "    # Multiplicação da matriz\n",
    "    return np.dot(A_np, B_np)\n",
    "\n",
    "#Resultado\n",
    "multiplicacao_matrizes(matriz1, matriz2)\n"
   ]
  },
  {
   "cell_type": "code",
   "execution_count": 25,
   "metadata": {},
   "outputs": [
    {
     "data": {
      "text/plain": [
       "array([[32,  4, 18],\n",
       "       [31,  1, 10],\n",
       "       [43, 16, 52]])"
      ]
     },
     "execution_count": 25,
     "metadata": {},
     "output_type": "execute_result"
    }
   ],
   "source": [
    "#Com numpy versao 2\n",
    "\n",
    "def multiplicacao_matrizes(m1,m2):\n",
    "  return np.dot(m1,m2)\n",
    "\n",
    "#Resultado\n",
    "multiplicacao_matrizes(matriz1,matriz2)\n"
   ]
  },
  {
   "cell_type": "code",
   "execution_count": null,
   "metadata": {},
   "outputs": [],
   "source": []
  }
 ],
 "metadata": {
  "kernelspec": {
   "display_name": "base",
   "language": "python",
   "name": "python3"
  },
  "language_info": {
   "codemirror_mode": {
    "name": "ipython",
    "version": 3
   },
   "file_extension": ".py",
   "mimetype": "text/x-python",
   "name": "python",
   "nbconvert_exporter": "python",
   "pygments_lexer": "ipython3",
   "version": "3.11.7"
  }
 },
 "nbformat": 4,
 "nbformat_minor": 2
}
